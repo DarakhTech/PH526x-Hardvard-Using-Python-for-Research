{
 "cells": [
  {
   "cell_type": "markdown",
   "metadata": {},
   "source": [
    "The change in the predicted outcome if x1 is increased by 1, holding x2 constant."
   ]
  },
  {
   "cell_type": "markdown",
   "metadata": {},
   "source": [
    "-8"
   ]
  }
 ],
 "metadata": {
  "language_info": {
   "name": "python"
  },
  "orig_nbformat": 4
 },
 "nbformat": 4,
 "nbformat_minor": 2
}
