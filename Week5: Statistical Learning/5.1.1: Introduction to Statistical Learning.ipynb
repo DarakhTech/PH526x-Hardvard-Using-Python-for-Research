{
 "cells": [
  {
   "cell_type": "markdown",
   "metadata": {},
   "source": [
    "**1) What is the difference between supervised and unsupervised learning?**\n",
    "\n",
    "A) Unsupervised learning uses qualitative inputs, whereas supervised learning uses quantitative inputs.\n",
    "\n",
    "B) Supervised learning uses qualitative inputs, whereas unsupervised learning uses quantitative inputs.\n",
    "\n",
    "C) Unsupervised learning matches inputs and outputs, whereas supervised learning discovers structure for inputs only.\n",
    "\n",
    "**> D) Supervised learning matches inputs and outputs, whereas unsupervised learning discovers structure for inputs only.**"
   ]
  },
  {
   "cell_type": "markdown",
   "metadata": {},
   "source": [
    "**2) What is the difference between regression and classification?**\n",
    "\n",
    "A) Classification can be supervised or unsupervised, whereas regression can be supervised only.\n",
    "\n",
    "B) Regression uses a continuous loss function, whereas classification uses a categorical loss function.\n",
    "\n",
    "**>C) Regression results in continuous outputs, whereas classification results in categorical outputs.**\n",
    "\n",
    "D) Regression uses continuous input, whereas classification uses categorical input.2"
   ]
  },
  {
   "cell_type": "markdown",
   "metadata": {},
   "source": [
    "**3) What is the difference between least squares loss and 0-1  loss?**\n",
    "\n",
    "A) Least squares loss is used for supervised learning, whereas 0-1 loss is used for unsupervised learning.\n",
    "\n",
    "B) Least squares loss is used for regression, whereas 0-1 loss is used for classification.\n",
    "\n",
    "**>C) Least squares loss is used to estimate the expected value of outputs, whereas 0-1 loss is used to estimate the probability of outputs.**\n",
    "\n",
    "D) Least squares loss is used for quantitative outputs, whereas 0-1 loss is used for qualitative outputs.\n",
    "\n",
    "E) Least squares loss is used for quantitative inputs, whereas 0-1 loss is used for qualitative inputs."
   ]
  },
  {
   "cell_type": "markdown",
   "metadata": {},
   "source": []
  }
 ],
 "metadata": {
  "language_info": {
   "name": "python"
  },
  "orig_nbformat": 4
 },
 "nbformat": 4,
 "nbformat_minor": 2
}
