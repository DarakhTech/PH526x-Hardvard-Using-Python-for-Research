{
 "cells": [
  {
   "cell_type": "code",
   "execution_count": 1,
   "metadata": {},
   "outputs": [],
   "source": [
    "import numpy as np\n",
    "import scipy.stats as ss\n",
    "import matplotlib.pyplot as plt\n",
    "n = 100\n",
    "beta_0 = 5\n",
    "beta_1 = 2\n",
    "np.random.seed(1)\n",
    "x = 10 * ss.uniform.rvs(size=n)\n",
    "y = beta_0 + beta_1 * x + ss.norm.rvs(loc=0, scale = 1, size = n)"
   ]
  },
  {
   "cell_type": "code",
   "execution_count": 2,
   "metadata": {},
   "outputs": [
    {
     "data": {
      "text/plain": [
       "81.540007425512"
      ]
     },
     "execution_count": 2,
     "metadata": {},
     "output_type": "execute_result"
    }
   ],
   "source": [
    "def compute_rss(y_estimate, y):\n",
    "  return sum(np.power(y-y_estimate, 2))\n",
    "def estimate_y(x, b_0, b_1):\n",
    "  return b_0 + b_1 * x\n",
    "rss = compute_rss(estimate_y(x, beta_0, beta_1), y)\n",
    "rss"
   ]
  },
  {
   "cell_type": "markdown",
   "metadata": {},
   "source": [
    "**1) What is the difference between Y  (capital letter) and y (lowercase letter)?**\n",
    "\n",
    "A) Y is the true value for the output, whereas y  is estimated from the data.\n",
    "\n",
    "B) Y is estimated from the data, whereas y  is the true value for the output.\n",
    "\n",
    "**>C) Y is a random variable, whereas y is a particular value.**\n",
    "\n",
    "D) Y is the model output, whereas y is the model input.\n",
    "ChatGPT\n"
   ]
  },
  {
   "cell_type": "markdown",
   "metadata": {},
   "source": [
    "**2) The following code implements the residual sum of squares for this regression problem:**\n",
    "\n",
    "    def compute_rss(y_estimate, y):\n",
    "        return sum(np.power(y-y_estimate, 2))\n",
    "    def estimate_y(x, b_0, b_1):\n",
    "        return b_0 + b_1 * x\n",
    "    rss = compute_rss(estimate_y(x, beta_0, beta_1), y)\n",
    "\n",
    "Using the data from CC 5.1.2 , run the code above. What is the approximate value of rss?\n",
    "\n",
    "A) 6\n",
    "\n",
    "**>B) 82**\n",
    "\n",
    "C) 6077\n",
    "\n",
    "D) 31108"
   ]
  }
 ],
 "metadata": {
  "kernelspec": {
   "display_name": "Python 3",
   "language": "python",
   "name": "python3"
  },
  "language_info": {
   "codemirror_mode": {
    "name": "ipython",
    "version": 3
   },
   "file_extension": ".py",
   "mimetype": "text/x-python",
   "name": "python",
   "nbconvert_exporter": "python",
   "pygments_lexer": "ipython3",
   "version": "3.11.3"
  },
  "orig_nbformat": 4
 },
 "nbformat": 4,
 "nbformat_minor": 2
}
