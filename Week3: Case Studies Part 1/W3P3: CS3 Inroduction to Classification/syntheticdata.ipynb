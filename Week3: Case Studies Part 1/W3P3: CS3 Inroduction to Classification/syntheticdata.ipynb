{
 "cells": [
  {
   "cell_type": "code",
   "execution_count": 1,
   "metadata": {},
   "outputs": [],
   "source": [
    "import numpy as np\n",
    "import scipy.stats as ss\n",
    "import matplotlib.pyplot as plt"
   ]
  },
  {
   "cell_type": "code",
   "execution_count": 2,
   "metadata": {},
   "outputs": [
    {
     "data": {
      "text/plain": [
       "array([[ 0.94319881,  3.13000583],\n",
       "       [ 1.6738679 ,  0.32307931],\n",
       "       [-0.74484857, -0.31098812],\n",
       "       [-1.12245826, -0.49340796],\n",
       "       [ 0.17123643,  0.06674332],\n",
       "       [ 1.87639581,  2.08677419],\n",
       "       [ 3.7228729 ,  0.58177821],\n",
       "       [-1.33050629,  0.93877434],\n",
       "       [ 0.50311048,  0.2278167 ],\n",
       "       [-0.18371002,  0.69763338]])"
      ]
     },
     "execution_count": 2,
     "metadata": {},
     "output_type": "execute_result"
    }
   ],
   "source": [
    "a = ss.norm(0,1).rvs((5,2))\n",
    "b = ss.norm(1,1).rvs((5,2))\n",
    "np.concatenate((ss.norm(0,1).rvs((5,2)),ss.norm(1,1).rvs((5,2))),axis = 0)"
   ]
  },
  {
   "cell_type": "code",
   "execution_count": 16,
   "metadata": {},
   "outputs": [],
   "source": [
    "def generate_synth_data(n=50):\n",
    "    points = np.concatenate((ss.norm(0,1).rvs((n,2)),ss.norm(1,1).rvs((n,2))),axis = 0)\n",
    "    outcomes = np.concatenate((np.repeat(0,n),np.repeat(1,n)))\n",
    "    return (points, outcomes)"
   ]
  },
  {
   "cell_type": "code",
   "execution_count": 17,
   "metadata": {},
   "outputs": [],
   "source": [
    "n = 20\n",
    "(points, outcomes) =  generate_synth_data(n)"
   ]
  },
  {
   "cell_type": "code",
   "execution_count": 18,
   "metadata": {},
   "outputs": [
    {
     "data": {
      "text/plain": [
       "array([[ 0.28002208,  0.3372273 ],\n",
       "       [ 0.6127866 , -0.07820309],\n",
       "       [-0.54569026, -0.47816877],\n",
       "       [ 1.14975873,  1.40107567],\n",
       "       [ 0.64442427,  1.01935885],\n",
       "       [-0.74122129,  1.09039019],\n",
       "       [ 1.21757695, -0.29170124],\n",
       "       [-1.0806553 ,  0.38893724],\n",
       "       [-0.29610806,  0.61673794],\n",
       "       [-1.59249152,  1.94189332],\n",
       "       [-1.13807888,  1.09289638],\n",
       "       [ 0.88296093, -0.16104246],\n",
       "       [-2.65054507, -0.10036858],\n",
       "       [-1.05093739, -1.14387241],\n",
       "       [ 2.11975531,  1.38625471],\n",
       "       [-1.50630061,  0.89165153],\n",
       "       [ 0.48282615, -2.46404637],\n",
       "       [-0.9144912 ,  0.21666133],\n",
       "       [ 0.73727156, -0.01872572],\n",
       "       [-2.41710999, -0.84953351],\n",
       "       [ 0.1271536 ,  1.42922355],\n",
       "       [-1.25349519,  0.61167034],\n",
       "       [ 0.44692713,  1.0191559 ],\n",
       "       [ 2.19496734, -0.90038466],\n",
       "       [ 1.27740784, -0.05359321],\n",
       "       [ 1.69695937, -0.59217901],\n",
       "       [ 0.4720428 ,  2.77928154],\n",
       "       [ 1.21248079,  1.94891522],\n",
       "       [ 0.95877858,  1.10245528],\n",
       "       [ 1.42526842,  1.61664565],\n",
       "       [ 2.30732397,  1.97213686],\n",
       "       [ 1.86210105,  1.17281839],\n",
       "       [-0.06435221,  0.17444538],\n",
       "       [ 3.12126195,  0.50793964],\n",
       "       [ 1.69239855,  1.85924071],\n",
       "       [ 0.29246608,  0.96707452],\n",
       "       [ 2.59074458,  0.41603113],\n",
       "       [ 0.85303703,  1.78909707],\n",
       "       [ 0.97486544,  0.29397512],\n",
       "       [ 1.68925632,  0.04693496]])"
      ]
     },
     "execution_count": 18,
     "metadata": {},
     "output_type": "execute_result"
    }
   ],
   "source": [
    "points"
   ]
  },
  {
   "cell_type": "code",
   "execution_count": 20,
   "metadata": {},
   "outputs": [
    {
     "data": {
      "image/png": "[encoded data removed]",
      "text/plain": [
       "<Figure size 640x480 with 1 Axes>"
      ]
     },
     "metadata": {},
     "output_type": "display_data"
    }
   ],
   "source": [
    "plt.figure()\n",
    "plt.plot(points[:n, 0], points[:n, 1], 'ro')\n",
    "plt.plot(points[n:, 0], points[n:,1], 'bo')\n",
    "plt.savefig(\"bivardata.pdf\")\n",
    "plt.show()"
   ]
  }
 ],
 "metadata": {
  "kernelspec": {
   "display_name": "Python 3",
   "language": "python",
   "name": "python3"
  },
  "language_info": {
   "codemirror_mode": {
    "name": "ipython",
    "version": 3
   },
   "file_extension": ".py",
   "mimetype": "text/x-python",
   "name": "python",
   "nbconvert_exporter": "python",
   "pygments_lexer": "ipython3",
   "version": "3.11.3"
  },
  "orig_nbformat": 4
 },
 "nbformat": 4,
 "nbformat_minor": 2
}
