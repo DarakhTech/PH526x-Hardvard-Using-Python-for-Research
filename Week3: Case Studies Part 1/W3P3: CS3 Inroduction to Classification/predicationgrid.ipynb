{
 "cells": [
  {
   "cell_type": "code",
   "execution_count": 1,
   "metadata": {},
   "outputs": [],
   "source": [
    "import numpy as np\n",
    "import scipy.stats as ss\n",
    "import matplotlib.pyplot as plt"
   ]
  },
  {
   "cell_type": "code",
   "execution_count": null,
   "metadata": {},
   "outputs": [],
   "source": [
    "def make_prediction_grid(predictors, outcomes, limits,h, k ):\n",
    "    (x_min, x_max, y_min, y_max) = limits\n",
    "    xs = np.array(x_min, x_max, h)\n",
    "    ys = np.array(y_min, y_max, h)\n",
    "    xx,yy = np.meshgrid(xs,ys)\n",
    "    \n",
    "    prediction_grid = np.zeros(xx.shape, dtype=int)\n",
    "    for i,x in enumerate(xs):\n",
    "        for j,y in enumerate(ys):\n",
    "            p = np.array([x,y])\n",
    "            prediction_grid[j,i] = knn_predict(p,predictors, outcomes, k)\n",
    "    \n",
    "    return (xx,yy,prediction_grid)"
   ]
  }
 ],
 "metadata": {
  "kernelspec": {
   "display_name": "Python 3",
   "language": "python",
   "name": "python3"
  },
  "language_info": {
   "codemirror_mode": {
    "name": "ipython",
    "version": 3
   },
   "file_extension": ".py",
   "mimetype": "text/x-python",
   "name": "python",
   "nbconvert_exporter": "python",
   "pygments_lexer": "ipython3",
   "version": "3.11.3"
  },
  "orig_nbformat": 4
 },
 "nbformat": 4,
 "nbformat_minor": 2
}
